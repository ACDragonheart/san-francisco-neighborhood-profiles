{
 "cells": [
  {
   "cell_type": "code",
   "execution_count": 1,
   "id": "7e8c1b56",
   "metadata": {},
   "outputs": [
    {
     "data": {
      "text/plain": [
       "sys.version_info(major=3, minor=9, micro=13, releaselevel='final', serial=0)"
      ]
     },
     "execution_count": 1,
     "metadata": {},
     "output_type": "execute_result"
    }
   ],
   "source": [
    "import numpy as np\n",
    "np.__version__\n",
    "np.__path__\n",
    "import sys\n",
    "sys.version_info"
   ]
  },
  {
   "cell_type": "code",
   "execution_count": 2,
   "id": "97239113",
   "metadata": {},
   "outputs": [],
   "source": [
    "import requests, json, os\n",
    "import pandas as pd\n",
    "import numpy as np\n",
    "import geopandas as gpd\n",
    "import sodapy\n",
    "from sodapy import Socrata\n",
    "from collections import defaultdict\n",
    "from collections import OrderedDict\n",
    "from arcgis.gis import GIS"
   ]
  },
  {
   "cell_type": "code",
   "execution_count": 3,
   "id": "4312ed1b",
   "metadata": {},
   "outputs": [],
   "source": [
    "import arcgis \n",
    "from arcgis.features import FeatureLayer\n",
    "from arcgis.features import FeatureLayerCollection\n",
    "from arcgis.gis import GIS"
   ]
  },
  {
   "cell_type": "code",
   "execution_count": 4,
   "id": "1ff9ee44",
   "metadata": {},
   "outputs": [
    {
     "name": "stdout",
     "output_type": "stream",
     "text": [
      "Connected to www.arcgis.com as seolha.lee_cpc\n"
     ]
    }
   ],
   "source": [
    "# connect to SF ArcGIS Online using a valid credential\n",
    "gis = GIS(\"https://sfgov.maps.arcgis.com/\", \"seolha.lee_cpc\", \"25Minhaa!?!\")\n",
    "print(f\"Connected to {gis.properties.portalHostname} as {gis.users.me.username}\")"
   ]
  },
  {
   "cell_type": "code",
   "execution_count": 5,
   "id": "18530ab2",
   "metadata": {
    "scrolled": true
   },
   "outputs": [
    {
     "data": {
      "text/html": [
       "<div>\n",
       "<style scoped>\n",
       "    .dataframe tbody tr th:only-of-type {\n",
       "        vertical-align: middle;\n",
       "    }\n",
       "\n",
       "    .dataframe tbody tr th {\n",
       "        vertical-align: top;\n",
       "    }\n",
       "\n",
       "    .dataframe thead th {\n",
       "        text-align: right;\n",
       "    }\n",
       "</style>\n",
       "<table border=\"1\" class=\"dataframe\">\n",
       "  <thead>\n",
       "    <tr style=\"text-align: right;\">\n",
       "      <th></th>\n",
       "      <th>Neighborhood</th>\n",
       "      <th>Total Population</th>\n",
       "      <th>Group Quarter Population</th>\n",
       "      <th>Female Population</th>\n",
       "      <th>Population with Any Disabilities</th>\n",
       "      <th>Households</th>\n",
       "      <th>Family Households</th>\n",
       "      <th>Non-Family Households</th>\n",
       "      <th>Single Person Households</th>\n",
       "      <th>Households with Children</th>\n",
       "      <th>...</th>\n",
       "      <th>Library</th>\n",
       "      <th>Zoological Garden</th>\n",
       "      <th>Concession</th>\n",
       "      <th>Family Camp</th>\n",
       "      <th>school</th>\n",
       "      <th>nhood_url</th>\n",
       "      <th>Population in Labor Force</th>\n",
       "      <th>% Speaking English Very Well of Foreign Born</th>\n",
       "      <th>% Speaking English Very Well of Foreign Born_10</th>\n",
       "      <th>% Speaking English Very Well of Total</th>\n",
       "    </tr>\n",
       "  </thead>\n",
       "  <tbody>\n",
       "    <tr>\n",
       "      <th>0</th>\n",
       "      <td>sf</td>\n",
       "      <td>874784.0</td>\n",
       "      <td>20169.0</td>\n",
       "      <td>428538.0</td>\n",
       "      <td>0.101049</td>\n",
       "      <td>362141.0</td>\n",
       "      <td>0.471267</td>\n",
       "      <td>0.528733</td>\n",
       "      <td>0.362618</td>\n",
       "      <td>0.184657</td>\n",
       "      <td>...</td>\n",
       "      <td>NaN</td>\n",
       "      <td>NaN</td>\n",
       "      <td>NaN</td>\n",
       "      <td>NaN</td>\n",
       "      <td>NaN</td>\n",
       "      <td>sf</td>\n",
       "      <td>713617</td>\n",
       "      <td>0.514545</td>\n",
       "      <td>0.762196</td>\n",
       "      <td>0.809587</td>\n",
       "    </tr>\n",
       "  </tbody>\n",
       "</table>\n",
       "<p>1 rows × 669 columns</p>\n",
       "</div>"
      ],
      "text/plain": [
       "  Neighborhood  Total Population  Group Quarter Population  Female Population  \\\n",
       "0           sf          874784.0                   20169.0           428538.0   \n",
       "\n",
       "   Population with Any Disabilities  Households  Family Households  \\\n",
       "0                          0.101049    362141.0           0.471267   \n",
       "\n",
       "   Non-Family Households  Single Person Households  Households with Children  \\\n",
       "0               0.528733                  0.362618                  0.184657   \n",
       "\n",
       "   ...  Library  Zoological Garden  Concession  Family Camp  school  \\\n",
       "0  ...      NaN                NaN         NaN          NaN     NaN   \n",
       "\n",
       "   nhood_url  Population in Labor Force  \\\n",
       "0         sf                     713617   \n",
       "\n",
       "   % Speaking English Very Well of Foreign Born  \\\n",
       "0                                      0.514545   \n",
       "\n",
       "   % Speaking English Very Well of Foreign Born_10  \\\n",
       "0                                         0.762196   \n",
       "\n",
       "   % Speaking English Very Well of Total  \n",
       "0                               0.809587  \n",
       "\n",
       "[1 rows x 669 columns]"
      ]
     },
     "execution_count": 5,
     "metadata": {},
     "output_type": "execute_result"
    }
   ],
   "source": [
    "sf_master_table = pd.read_csv('output/SF_master_table_by_geo_2020_2010.csv')\n",
    "sf_master_table"
   ]
  },
  {
   "cell_type": "code",
   "execution_count": 8,
   "id": "0d91b14d",
   "metadata": {},
   "outputs": [
    {
     "data": {
      "text/plain": [
       "Index(['A_Median Family Income_10', 'B_Median Household Income_10',\n",
       "       'B_Median Family Income_10', 'C_Median Household Income_10',\n",
       "       'C_Median Family Income_10', 'D_Median Household Income_10',\n",
       "       'D_Median Family Income_10', 'H_Median Household Income_10',\n",
       "       'H_Median Family Income_10', 'I_Median Household Income_10',\n",
       "       'I_Median Family Income_10', 'aff_count', 'aff_unit_sum',\n",
       "       'aff_tot_units_sum', 'aff_mean_aff_ratio', 'sro_count',\n",
       "       'sro_residential_unit', 'sro_tourist_unit',\n",
       "       'sro_mean_residential_ratio', 'rc_count', 'rc_residential_unit',\n",
       "       'good_samaritan_ends', 'roommate_same_unit', 'illegal_use',\n",
       "       'lead_remediation', 'failure_to_sign_renewal', 'condo_conversion',\n",
       "       'nuisance', 'access_denial', 'owner_move_in', 'demolition',\n",
       "       'substantial_rehab', 'late_payments', 'unapproved_subtenant',\n",
       "       'capital_improvement', 'breach', 'development', 'ellis_act_withdrawal',\n",
       "       'other_cause', 'non_payment', 'well-resourced', 'priority-equity',\n",
       "       'CBD', 'sfmta-equity', 'iin', 'commercial-corridor', 'ej_mean',\n",
       "       'ej_max', 'high_pci_ratio', 'vz_length', 'st_length', 'vz_ratio',\n",
       "       'Civic Plaza or Square', 'Regional Park', 'Mini Park',\n",
       "       'Neighborhood Park or Playground', 'Community Garden', 'Parkway',\n",
       "       'Other Non-Park Property', 'Library', 'Zoological Garden', 'Concession',\n",
       "       'Family Camp', 'school', 'nhood_url', 'Population in Labor Force',\n",
       "       '% Speaking English Very Well of Foreign Born',\n",
       "       '% Speaking English Very Well of Foreign Born_10',\n",
       "       '% Speaking English Very Well of Total'],\n",
       "      dtype='object')"
      ]
     },
     "execution_count": 8,
     "metadata": {},
     "output_type": "execute_result"
    }
   ],
   "source": [
    "sf_master_table.columns[600:]"
   ]
  },
  {
   "cell_type": "code",
   "execution_count": 13,
   "id": "2de09694",
   "metadata": {},
   "outputs": [],
   "source": [
    "sf_master_table[['aff_count', 'aff_unit_sum',\n",
    "       'aff_tot_units_sum', 'aff_mean_aff_ratio', 'sro_count',\n",
    "       'sro_residential_unit', 'sro_tourist_unit',\n",
    "       'sro_mean_residential_ratio', 'rc_count', 'rc_residential_unit',\n",
    "       'good_samaritan_ends', 'roommate_same_unit', 'illegal_use',\n",
    "       'lead_remediation', 'failure_to_sign_renewal', 'condo_conversion',\n",
    "       'nuisance', 'access_denial', 'owner_move_in', 'demolition',\n",
    "       'substantial_rehab', 'late_payments', 'unapproved_subtenant',\n",
    "       'capital_improvement', 'breach', 'development', 'ellis_act_withdrawal',\n",
    "       'other_cause', 'non_payment']] = sf_master_table[['aff_count', 'aff_unit_sum',\n",
    "       'aff_tot_units_sum', 'aff_mean_aff_ratio', 'sro_count',\n",
    "       'sro_residential_unit', 'sro_tourist_unit',\n",
    "       'sro_mean_residential_ratio', 'rc_count', 'rc_residential_unit',\n",
    "       'good_samaritan_ends', 'roommate_same_unit', 'illegal_use',\n",
    "       'lead_remediation', 'failure_to_sign_renewal', 'condo_conversion',\n",
    "       'nuisance', 'access_denial', 'owner_move_in', 'demolition',\n",
    "       'substantial_rehab', 'late_payments', 'unapproved_subtenant',\n",
    "       'capital_improvement', 'breach', 'development', 'ellis_act_withdrawal',\n",
    "       'other_cause', 'non_payment']].apply(pd.to_numeric)\n"
   ]
  },
  {
   "cell_type": "code",
   "execution_count": 15,
   "id": "7aa9966b",
   "metadata": {},
   "outputs": [],
   "source": [
    "sf_master_table.to_csv('output/SF_master_table_by_geo_2020_2010.csv', index=False)"
   ]
  },
  {
   "cell_type": "code",
   "execution_count": 17,
   "id": "1c3df9a5",
   "metadata": {},
   "outputs": [],
   "source": [
    "# set path to download csvs\n",
    "download_path = r\"./output\""
   ]
  },
  {
   "cell_type": "code",
   "execution_count": 19,
   "id": "2d0d1918",
   "metadata": {},
   "outputs": [],
   "source": [
    "# load the SF master table \n",
    "sf_master_table_path = os.path.join(download_path,'SF_master_table_by_geo_{}_{}.csv'.format(2020, 2010))"
   ]
  },
  {
   "cell_type": "code",
   "execution_count": 21,
   "id": "b96535df",
   "metadata": {},
   "outputs": [
    {
     "data": {
      "text/plain": [
       "{'success': True}"
      ]
     },
     "execution_count": 21,
     "metadata": {},
     "output_type": "execute_result"
    }
   ],
   "source": [
    "search_result = gis.content.search('title:SF_master_table_by_geo_2020_2010', item_type='Feature Layer')\n",
    "test_item = search_result[0]\n",
    "test_feature_table = FeatureLayerCollection.fromitem(test_item)\n",
    "test_feature_table.manager.overwrite(sf_master_table_path)"
   ]
  },
  {
   "cell_type": "code",
   "execution_count": 3,
   "id": "b1dfa844",
   "metadata": {},
   "outputs": [],
   "source": [
    "tract10 = pd.read_csv('output/Tract_profiles_by_geo_2010.csv')\n",
    "tract20 = pd.read_csv('output/Tract_profiles_by_geo_2020.csv')"
   ]
  },
  {
   "cell_type": "code",
   "execution_count": 5,
   "id": "6a4a3257",
   "metadata": {},
   "outputs": [
    {
     "data": {
      "text/plain": [
       "Index(['Tract', 'Total Population', 'Group Quarter Population',\n",
       "       'Female Population', '% Population with a Disability', 'Housholds',\n",
       "       'Family Households', 'Non-Family Households',\n",
       "       'Single Person Households', 'Households with Children',\n",
       "       ...\n",
       "       'I_Household Income (50K-75K)', 'I_Household Income (75K-100K)',\n",
       "       'I_Household Income (100K-125K)', 'I_Household Income (more than 125K)',\n",
       "       'A_Household Income (less than 25K)', 'A_Household Income (25K-50K)',\n",
       "       'A_Household Income (50K-75K)', 'A_Household Income (75K-100K)',\n",
       "       'A_Household Income (100K-125K)',\n",
       "       'A_Household Income (more than 125K)'],\n",
       "      dtype='object', length=351)"
      ]
     },
     "execution_count": 5,
     "metadata": {},
     "output_type": "execute_result"
    }
   ],
   "source": [
    "tract20.columns"
   ]
  },
  {
   "cell_type": "code",
   "execution_count": 7,
   "id": "aa89a195",
   "metadata": {},
   "outputs": [],
   "source": [
    "t20list = tract20['Tract'].tolist()\n",
    "t10list = tract10['Tract'].tolist()"
   ]
  },
  {
   "cell_type": "code",
   "execution_count": 8,
   "id": "7ad1c257",
   "metadata": {},
   "outputs": [
    {
     "data": {
      "text/plain": [
       "158"
      ]
     },
     "execution_count": 8,
     "metadata": {},
     "output_type": "execute_result"
    }
   ],
   "source": [
    "talllist = list(set(t20list).intersection(t10list))\n",
    "len(talllist)"
   ]
  },
  {
   "cell_type": "code",
   "execution_count": 9,
   "id": "b121e9aa",
   "metadata": {},
   "outputs": [
    {
     "data": {
      "text/plain": [
       "256"
      ]
     },
     "execution_count": 9,
     "metadata": {},
     "output_type": "execute_result"
    }
   ],
   "source": [
    "158+49+49"
   ]
  },
  {
   "cell_type": "code",
   "execution_count": 10,
   "id": "4e3171f9",
   "metadata": {},
   "outputs": [
    {
     "data": {
      "text/plain": [
       "86"
      ]
     },
     "execution_count": 10,
     "metadata": {},
     "output_type": "execute_result"
    }
   ],
   "source": [
    "244-158"
   ]
  },
  {
   "cell_type": "code",
   "execution_count": 13,
   "id": "9f71ecdf",
   "metadata": {},
   "outputs": [],
   "source": [
    "talldf = pd.DataFrame(talllist, columns = ['Tract'])"
   ]
  },
  {
   "cell_type": "code",
   "execution_count": 14,
   "id": "84d34ce3",
   "metadata": {},
   "outputs": [],
   "source": [
    "talldf.to_csv('output/Tract_2020_only.csv', index=False)"
   ]
  },
  {
   "cell_type": "code",
   "execution_count": null,
   "id": "cb5568a4",
   "metadata": {},
   "outputs": [],
   "source": []
  }
 ],
 "metadata": {
  "kernelspec": {
   "display_name": "Python 3 (ipykernel)",
   "language": "python",
   "name": "python3"
  },
  "language_info": {
   "codemirror_mode": {
    "name": "ipython",
    "version": 3
   },
   "file_extension": ".py",
   "mimetype": "text/x-python",
   "name": "python",
   "nbconvert_exporter": "python",
   "pygments_lexer": "ipython3",
   "version": "3.9.13"
  }
 },
 "nbformat": 4,
 "nbformat_minor": 5
}

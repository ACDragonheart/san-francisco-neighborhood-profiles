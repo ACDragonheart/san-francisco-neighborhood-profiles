{
 "cells": [
  {
   "cell_type": "code",
   "execution_count": null,
   "metadata": {},
   "outputs": [],
   "source": [
    "import numpy as np\n",
    "np.__version__\n",
    "np.__path__\n",
    "import sys\n",
    "sys.version_info"
   ]
  },
  {
   "cell_type": "code",
   "execution_count": null,
   "metadata": {},
   "outputs": [],
   "source": [
    "pip install sodapy"
   ]
  },
  {
   "cell_type": "code",
   "execution_count": null,
   "metadata": {},
   "outputs": [],
   "source": [
    "pip install geopandas"
   ]
  },
  {
   "cell_type": "code",
   "execution_count": null,
   "metadata": {},
   "outputs": [],
   "source": [
    "pip install arcgis"
   ]
  },
  {
   "cell_type": "code",
   "execution_count": null,
   "metadata": {},
   "outputs": [],
   "source": [
    "# base libraries\n",
    "import requests, json, os\n",
    "import pandas as pd\n",
    "import numpy as np\n",
    "import sodapy\n",
    "from collections import defaultdict\n",
    "import geopandas\n",
    "from sodapy import Socrata\n",
    "from arcgis.gis import GIS\n",
    "from arcgis import features\n",
    "\n",
    "#graph libraries\n",
    "#import plotly\n",
    "#import plotly.express as px\n",
    "from ipywidgets import interact, interactive, fixed, interact_manual\n",
    "import ipywidgets as widgets\n",
    "\n",
    "# map libraries\n",
    "#import folium\n",
    "#import branca.colormap as cm\n",
    "#a"
   ]
  },
  {
   "cell_type": "code",
   "execution_count": null,
   "metadata": {},
   "outputs": [],
   "source": [
    "year = 2020\n",
    "year_past = 2010"
   ]
  },
  {
   "cell_type": "code",
   "execution_count": null,
   "metadata": {
    "scrolled": true
   },
   "outputs": [],
   "source": [
    "data_all_neighborhood = pd.read_csv(r'./output/Neighborhood_'+'master_table_by_geo_{}_{}.csv'.format(year, year_past))\n",
    "data_all_neighborhood.head()"
   ]
  },
  {
   "cell_type": "code",
   "execution_count": null,
   "metadata": {
    "scrolled": true
   },
   "outputs": [],
   "source": [
    "# np boundaries\n",
    "np_boundaries = pd.read_csv(r'./resources/np_boundaries.csv')\n",
    "np_boundaries"
   ]
  },
  {
   "cell_type": "code",
   "execution_count": null,
   "metadata": {
    "scrolled": true
   },
   "outputs": [],
   "source": [
    "# EJ scores\n",
    "ej_score = pd.read_csv(r'./resources/Join_Features_to_EJ_Communities_0.csv')\n",
    "ej_score.head()"
   ]
  },
  {
   "cell_type": "code",
   "execution_count": null,
   "metadata": {
    "scrolled": false
   },
   "outputs": [],
   "source": [
    "# ej score aggregation \n",
    "ej_neigh = ej_score.groupby(\"nhood\").agg({'OBJECTID':['mean', 'max']})\n",
    "ej_neigh.columns = ['ej_mean', 'ej_max']\n",
    "ej_neigh = ej_neigh.reset_index()\n",
    "ej_neigh.head()"
   ]
  },
  {
   "cell_type": "code",
   "execution_count": null,
   "metadata": {},
   "outputs": [],
   "source": [
    "# additional columns\n",
    "add_col = pd.read_csv(r'./resources/np_additional_columns.csv')\n",
    "add_col.head()"
   ]
  },
  {
   "cell_type": "code",
   "execution_count": null,
   "metadata": {
    "scrolled": true
   },
   "outputs": [],
   "source": [
    "data_all_neighborhood_join= data_all_neighborhood.merge(np_boundaries, on='nhood')\\\n",
    "                                                .merge(ej_neigh, on='nhood')\\\n",
    "                                                .merge(add_col, left_on = 'nhood', right_on ='Neighborhood')\n",
    "data_all_neighborhood_join.head()"
   ]
  },
  {
   "cell_type": "code",
   "execution_count": null,
   "metadata": {},
   "outputs": [],
   "source": [
    "download_path = r\"./output\"\n",
    "data_all_neighborhood_join.to_csv(os.path.join(download_path,'Neighborhood_new_table_by_geo_2020_2010.csv'.format(year)), index = False)"
   ]
  },
  {
   "cell_type": "code",
   "execution_count": null,
   "metadata": {},
   "outputs": [],
   "source": []
  }
 ],
 "metadata": {
  "kernelspec": {
   "display_name": "Python 3",
   "language": "python",
   "name": "python3"
  },
  "language_info": {
   "codemirror_mode": {
    "name": "ipython",
    "version": 3
   },
   "file_extension": ".py",
   "mimetype": "text/x-python",
   "name": "python",
   "nbconvert_exporter": "python",
   "pygments_lexer": "ipython3",
   "version": "3.7.4"
  }
 },
 "nbformat": 4,
 "nbformat_minor": 2
}

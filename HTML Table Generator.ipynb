{
 "cells": [
  {
   "cell_type": "markdown",
   "metadata": {},
   "source": [
    "# HTML Table Generator\n",
    "This code creates HTML tables and lists for San Francisco Planning Neighborhood Profiles. The code uses the master data table created by running Master Table Constuctor.ipynb and other input resources that can be found in this repository. The resulted html files are saved under the 'output' folder of this repository and can be accessed via this repository's hosted webpage. "
   ]
  },
  {
   "cell_type": "markdown",
   "metadata": {},
   "source": [
    "## Import packages"
   ]
  },
  {
   "cell_type": "code",
   "execution_count": null,
   "metadata": {},
   "outputs": [],
   "source": [
    "import numpy as np\n",
    "np.__version__\n",
    "np.__path__\n",
    "import sys\n",
    "sys.version_info"
   ]
  },
  {
   "cell_type": "code",
   "execution_count": null,
   "metadata": {},
   "outputs": [],
   "source": [
    "# base libraries\n",
    "import requests, json, os\n",
    "import pandas as pd\n",
    "import numpy as np\n",
    "import sodapy\n",
    "from collections import defaultdict\n",
    "import geopandas\n",
    "from sodapy import Socrata\n",
    "from IPython.display import HTML\n",
    "\n",
    "#graph libraries\n",
    "#import plotly\n",
    "#import plotly.express as px\n",
    "from ipywidgets import interact, interactive, fixed, interact_manual\n",
    "import ipywidgets as widgets\n",
    "\n",
    "# map libraries\n",
    "#import folium\n",
    "#import branca.colormap as cm\n",
    "#a"
   ]
  },
  {
   "cell_type": "markdown",
   "metadata": {},
   "source": [
    "## 1. ACS "
   ]
  },
  {
   "cell_type": "markdown",
   "metadata": {},
   "source": [
    "### Set the years"
   ]
  },
  {
   "cell_type": "code",
   "execution_count": null,
   "metadata": {},
   "outputs": [],
   "source": [
    "year = 2020\n",
    "year_past = 2010"
   ]
  },
  {
   "cell_type": "markdown",
   "metadata": {},
   "source": [
    "### Open html_table_lookup.csv file"
   ]
  },
  {
   "cell_type": "code",
   "execution_count": null,
   "metadata": {
    "scrolled": false
   },
   "outputs": [],
   "source": [
    "table_info = pd.read_csv(r'./lookup_tables/html_table_lookup.csv')\n",
    "table_info.head()"
   ]
  },
  {
   "cell_type": "markdown",
   "metadata": {},
   "source": [
    "### Load the master data table"
   ]
  },
  {
   "cell_type": "code",
   "execution_count": null,
   "metadata": {
    "scrolled": false
   },
   "outputs": [],
   "source": [
    "# get the master table \n",
    "data_all_neighborhood = pd.read_csv(r'./output/Neighborhood_'+'master_table_by_geo_{}_{}.csv'.format(year, year_past))\n",
    "data_all_neighborhood.head()"
   ]
  },
  {
   "cell_type": "code",
   "execution_count": null,
   "metadata": {},
   "outputs": [],
   "source": [
    "# add a column containing '-' for null value \n",
    "data_all_neighborhood['null']= ['-']*len(data_all_neighborhood)\n",
    "data_all_neighborhood.head()"
   ]
  },
  {
   "cell_type": "markdown",
   "metadata": {},
   "source": [
    "### Create helper functions"
   ]
  },
  {
   "cell_type": "markdown",
   "metadata": {},
   "source": [
    "#### Table Creator function\n",
    "This function subset the master data table based on the lists of attributes IDs in the html_table_lookup.csv for each html table."
   ]
  },
  {
   "cell_type": "code",
   "execution_count": null,
   "metadata": {},
   "outputs": [],
   "source": [
    "# create a table creator function \n",
    "def table_constructor(neighborhood, table_info, table_id):\n",
    "    print(table_id)\n",
    "    data_sub = data_all_neighborhood[data_all_neighborhood[\"nhood_url\"].isin([neighborhood, 'sf'])]\n",
    "    attribute_sets = table_info[table_info['Table_ID']==table_id]['Attribute_sets'].iloc[0]\n",
    "    past = table_info[table_info['Table_ID']==table_id]['Past'].iloc[0]\n",
    "    \n",
    "    attributes1 = table_info[table_info['Table_ID']==table_id]['Attributes1'].iloc[0].split(\", \")\n",
    "    print(attributes1)\n",
    "    \n",
    "    row_names = table_info[table_info['Table_ID']==table_id]['Row_names'].iloc[0].split(\", \")\n",
    "    column_names = table_info[table_info['Table_ID']==table_id]['Column_names'].iloc[0].split(\", \")\n",
    "    data_sub1 = data_sub[attributes1]\n",
    "    data_sub1_tp = data_sub1.T.reset_index().iloc[:, 1:3]\n",
    "    \n",
    "    \n",
    "    if attribute_sets == 2:\n",
    "        \n",
    "        if past == 0:\n",
    "            attributes2 = table_info[table_info['Table_ID']==table_id]['Attributes2'].iloc[0].split(\", \")\n",
    "            print(attributes2)\n",
    "            data_sub2 = data_sub[attributes2]\n",
    "            data_sub2_tp = data_sub2.T.reset_index().iloc[:, 1:3]\n",
    "\n",
    "            df = pd.concat([data_sub1_tp, data_sub2_tp], axis=1)\n",
    "            df = df*100\n",
    "            df.columns = ['a', 'b', 'c', 'd']\n",
    "            df[''] = row_names \n",
    "            cols = df.columns.tolist()\n",
    "            cols = [cols[4], cols[0], cols[2], cols[1], cols[3]]\n",
    "            df = df[cols]\n",
    "            df.columns = ['']+ column_names\n",
    "        \n",
    "        \n",
    "        elif past == 1:\n",
    "            attributes2 = [x+'_10' for x in attributes1]\n",
    "            data_sub2 = data_sub[attributes2] \n",
    "            data_sub2_tp = data_sub2.T.reset_index().iloc[:, 1:3]\n",
    "            \n",
    "            df = pd.concat([data_sub2_tp, data_sub1_tp], axis=1)\n",
    "            df = df*100\n",
    "            df.columns = ['a', 'b', 'c', 'd']\n",
    "            df[''] = row_names \n",
    "            cols = df.columns.tolist()\n",
    "            print(cols)\n",
    "            cols = [cols[4], cols[0], cols[2], cols[1], cols[3]]\n",
    "            df = df[cols]\n",
    "            df.columns = ['']+ column_names\n",
    "    \n",
    "    else:\n",
    "        \n",
    "        df = pd.concat([data_sub1_tp, data_sub1_tp], axis=1)\n",
    "        total1 = df.iloc[0, 0]\n",
    "        total2 = df.iloc[0, 1]\n",
    "        df.iloc[:, 2] = df.iloc[:, 0]/total1*100\n",
    "        df.iloc[:, 3] = df.iloc[:, 1]/total2*100\n",
    "        df.columns = ['a', 'b', 'c', 'd']\n",
    "        df[''] = row_names \n",
    "        cols = df.columns.tolist()\n",
    "        cols = [cols[4], cols[0], cols[2], cols[1], cols[3]]\n",
    "        df = df[cols]\n",
    "        df.columns = ['']+ column_names\n",
    "    \n",
    "    #df.reindex(row_names)\n",
    "    print(df)\n",
    "    \n",
    "    return(df)\n",
    "    "
   ]
  },
  {
   "cell_type": "markdown",
   "metadata": {},
   "source": [
    "#### Table Styler function"
   ]
  },
  {
   "cell_type": "code",
   "execution_count": null,
   "metadata": {},
   "outputs": [],
   "source": [
    "# create a table styler function\n",
    "# doc: https://pandas.pydata.org/docs/user_guide/style.html\n",
    "# doc: https://datascientyst.com/render-pandas-dataframe-html-table-keeping-style/\n",
    "def table_styler(df, table_info, table_id, neighborhood):\n",
    "    \n",
    "    df.columns=[['', neighborhood, neighborhood, 'SF', 'SF'], df.columns]\n",
    "    \n",
    "    columns = df.columns\n",
    "    \n",
    "    # set CSS styles\n",
    "    row_color1 = {  # for row hover use <tr> instead of <td>\n",
    "        'selector': 'tr:nth-child(even)',\n",
    "        'props': 'background-color: #fef2de'\n",
    "        }\n",
    "    row_color2 = {\n",
    "        'selector': 'tr:nth-child(odd)',\n",
    "        'props': 'background-color: #ffffff'\n",
    "    }\n",
    "    td_th = {\n",
    "        'selector': 'td, th',\n",
    "        'props': 'text-align: right; padding: 10px; font-family:Arial, sans-serif; font-size: 14px'\n",
    "        }\n",
    "    header_neigh = {\n",
    "        'selector': 'th:not(.index_name)',\n",
    "        'props': 'background-color: #fef2de; text-align: center;'\n",
    "        }\n",
    "    header_sf = {\n",
    "        'selector': 'th[colspan=\"2\"]:nth-child(3)',\n",
    "        'props': 'background-color: #fef2de; text-align: center; color:#ce6301'\n",
    "    }\n",
    "    index = {\n",
    "        'selector':'td:nth-child(1)',\n",
    "        'props': 'font-weight: bold'\n",
    "    }\n",
    "    column_color = {\n",
    "        'selector':'td:nth-child(4), td:nth-child(5), th:nth-child(4), th:nth-child(5)',\n",
    "        'props':'color:#ce6301'\n",
    "        }\n",
    "    \n",
    "    attribute_sets = table_info[table_info['Table_ID']==table_id]['Attribute_sets'].iloc[0]\n",
    "    \n",
    "    if attribute_sets == 2: # all columns contain % numbers \n",
    "        \n",
    "        # create a Style object with the CSS styles\n",
    "        html = df.style.set_table_styles([row_color1, row_color2, td_th, header_neigh, header_sf, index, column_color]) \\\n",
    "                .format(na_rep='MISSING', thousands=\",\",\n",
    "                       formatter = {columns[1]:'{:,.2f}%'.format,\n",
    "                         columns[2]:'{:,.2f}%'.format,\n",
    "                         columns[3]:'{:,.2f}%'.format,\n",
    "                         columns[4]: '{:,.2f}%'.format})\\\n",
    "                .hide_index()\n",
    "        \n",
    "    else: # the first and second column contains absolute numbers. the third and fourth columns contain % numbers. \n",
    "        \n",
    "        # create a Style object with the CSS styles\n",
    "        html = df.style.set_table_styles([row_color1, row_color2, td_th, header_neigh, header_sf, index, column_color]) \\\n",
    "                .format(na_rep='MISSING', thousands=\",\",\n",
    "                       formatter = {columns[1]:\"{:.0f}\",\n",
    "                         columns[2]:'{:,.2f}%'.format,\n",
    "                         columns[3]:\"{:.0f}\",\n",
    "                         columns[4]: '{:,.2f}%'.format})\\\n",
    "                .hide_index()\n",
    "    \n",
    "    #print(html)\n",
    "    return(html)\n",
    "    "
   ]
  },
  {
   "cell_type": "markdown",
   "metadata": {},
   "source": [
    "### Create/Style Tables "
   ]
  },
  {
   "cell_type": "code",
   "execution_count": null,
   "metadata": {},
   "outputs": [],
   "source": [
    "nhood_url_list = data_all_neighborhood['nhood_url'].tolist()[:-1]\n",
    "table_id_list = table_info['Table_ID'].tolist()"
   ]
  },
  {
   "cell_type": "code",
   "execution_count": null,
   "metadata": {
    "scrolled": true
   },
   "outputs": [],
   "source": [
    "for neighborhood in nhood_url_list:\n",
    "    for table_id in table_id_list:\n",
    "        df = table_constructor(neighborhood, table_info, table_id)\n",
    "        html = table_styler(df, table_info, table_id, neighborhood)\n",
    "        \n",
    "        # save the Style object as a html file \n",
    "        with open(r'./output/html_tables/'+str(year)+'_'+neighborhood+'_'+table_id+'.html', 'w') as f:\n",
    "            f.write(html.render())\n",
    "            f.close()"
   ]
  },
  {
   "cell_type": "code",
   "execution_count": null,
   "metadata": {
    "scrolled": true
   },
   "outputs": [],
   "source": [
    "html"
   ]
  },
  {
   "cell_type": "markdown",
   "metadata": {},
   "source": [
    "## 2 Cultural Districts / Historic Statements "
   ]
  },
  {
   "cell_type": "code",
   "execution_count": null,
   "metadata": {},
   "outputs": [],
   "source": [
    "neighborhood_list = data_all_neighborhood['nhood_url'].tolist()"
   ]
  },
  {
   "cell_type": "code",
   "execution_count": null,
   "metadata": {
    "scrolled": false
   },
   "outputs": [],
   "source": [
    "# load the historic context statements resource file \n",
    "historic= pd.read_csv(r'./resources/Historic_Context_Statements.csv')\n",
    "historic['nhood_url'] = historic['Neighborhood'].str.replace('/','-')\n",
    "historic.head()"
   ]
  },
  {
   "cell_type": "code",
   "execution_count": null,
   "metadata": {},
   "outputs": [],
   "source": [
    "# load the cultural districts resource file\n",
    "cultural_districts= pd.read_csv(r'./resources/cultural_districts.csv')\n",
    "cultural_districts['nhood_url'] = cultural_districts['Neighborhood'].str.replace('/','-')\n",
    "cultural_districts.head()"
   ]
  },
  {
   "cell_type": "code",
   "execution_count": null,
   "metadata": {},
   "outputs": [],
   "source": [
    "# create a function to make an element clickable \n",
    "def make_clickable(url, name):\n",
    "    return f'<a href=\"{url}\">{name}</a>'\n",
    "\n"
   ]
  },
  {
   "cell_type": "code",
   "execution_count": null,
   "metadata": {},
   "outputs": [],
   "source": [
    "# Cultural Districts\n",
    "\n",
    "#set CSS styles\n",
    "row_color1 = {  # for row hover use <tr> instead of <td>\n",
    "        'selector': 'tr',\n",
    "        'props': 'background-color: #fef2de'\n",
    "        }\n",
    "td_th = {\n",
    "        'selector': 'td, th',\n",
    "        'props': 'text-align: left; padding: 10px; font-family:Arial, sans-serif; font-size: 14px'\n",
    "        }\n",
    "\n",
    "# generate all tables for each neighborhood \n",
    "for neighborhood in neighborhood_list:\n",
    "    df = cultural_districts[cultural_districts['nhood_url']==neighborhood]\n",
    "    print(df)\n",
    "    print(len(df))\n",
    "    if len(df) >0:\n",
    "        df['link'] = df.apply(lambda x: make_clickable(x['CD_URL'], x['Cultural Districts']), axis=1)\n",
    "        df2 = df[['link']]\n",
    "\n",
    "        html = df2.style.set_table_styles([row_color1, td_th])\\\n",
    "                    .hide_index()\\\n",
    "                    .hide_columns()\n",
    "\n",
    "\n",
    "        # save the Style object as a html file \n",
    "        with open(r'./output/html_tables/'+str(year)+'_'+neighborhood+'_'+'cultural_districts.html', 'w') as f:\n",
    "            f.write(html.render())\n",
    "            f.close()\n",
    "    else: \n",
    "        with open(r'./output/html_tables/'+str(year)+'_'+neighborhood+'_'+'cultural_districts.html', 'w') as f:\n",
    "            f.write('<div>Not applied</div>')\n",
    "            f.close()\n",
    "                            \n",
    "        print('pass')"
   ]
  },
  {
   "cell_type": "code",
   "execution_count": null,
   "metadata": {},
   "outputs": [],
   "source": [
    "# Historic Context Statements \n",
    "\n",
    "# set CSS styles \n",
    "row_color1 = {  # for row hover use <tr> instead of <td>\n",
    "        'selector': 'tr',\n",
    "        'props': 'background-color: #fef2de'\n",
    "        }\n",
    "td_th = {\n",
    "        'selector': 'td, th',\n",
    "        'props': 'text-align: left; padding: 10px; font-family:Arial, sans-serif; font-size: 14px; width:300px'\n",
    "        }\n",
    "\n",
    "# generate and save tables for each neighborhood \n",
    "for neighborhood in neighborhood_list:\n",
    "    df = historic[historic['nhood_url']==neighborhood]\n",
    "    print(df)\n",
    "    print(len(df))\n",
    "    if len(df) >0:\n",
    "        df['link'] = df.apply(lambda x: make_clickable(x['HCS_URL'], x['Historic Context Statement']), axis=1)\n",
    "        df2 = df[['link']]\n",
    "\n",
    "        html = df2.style.set_table_styles([row_color1, td_th])\\\n",
    "                    .hide_index()\\\n",
    "                    .hide_columns()\n",
    "\n",
    "\n",
    "        # save the Style object as a html file \n",
    "        with open(r'./output/html_tables/'+str(year)+'_'+neighborhood+'_'+'historic_statement.html', 'w') as f:\n",
    "            f.write(html.render())\n",
    "            f.close()\n",
    "    else: \n",
    "        with open(r'./output/html_tables/'+str(year)+'_'+neighborhood+'_'+'historic_statement.html', 'w') as f:\n",
    "            f.write('<div>Not applied</div>')\n",
    "            f.close()\n",
    "        print('pass')"
   ]
  },
  {
   "cell_type": "code",
   "execution_count": null,
   "metadata": {
    "scrolled": true
   },
   "outputs": [],
   "source": [
    "html"
   ]
  },
  {
   "cell_type": "markdown",
   "metadata": {},
   "source": [
    "## 3 Neighborhood Group Notification List"
   ]
  },
  {
   "cell_type": "code",
   "execution_count": null,
   "metadata": {
    "scrolled": true
   },
   "outputs": [],
   "source": [
    "# load the neighborhood groups list resource file \n",
    "neigh_group= pd.read_csv(r'./resources/neighborhood_notification_list.csv')\n",
    "neigh_group['nhood_url'] = neigh_group['Neighborhood'].str.replace('/','-')\n",
    "neigh_group.head()"
   ]
  },
  {
   "cell_type": "code",
   "execution_count": null,
   "metadata": {},
   "outputs": [],
   "source": [
    "neigh_group = neigh_group[['ORGANIZATION', 'EMAIL', 'nhood_url']]\n",
    "\n",
    "# set CSS styles\n",
    "row_color1 = {  # for row hover use <tr> instead of <td>\n",
    "        'selector': 'tr:nth-child(even)',\n",
    "        'props': 'background-color: #fef2de'\n",
    "        }\n",
    "row_color2 = {\n",
    "    'selector': 'tr:nth-child(odd)',\n",
    "    'props': 'background-color: #ffffff'\n",
    "}\n",
    "td = {\n",
    "    'selector': 'td, th',\n",
    "    'props': 'text-align: right; padding: 10px; font-family:Arial, sans-serif; font-size: 14px'\n",
    "    }\n",
    "header_neigh = {\n",
    "    'selector': 'th:not(.index_name)',\n",
    "    'props': 'background-color: #fef2de; text-align: center;'\n",
    "    }\n",
    "header_sf = {\n",
    "    'selector': 'th[colspan=\"2\"]:nth-child(3)',\n",
    "    'props': 'background-color: #fef2de; text-align: center; color:#ce6301'\n",
    "}\n",
    "index = {\n",
    "    'selector':'td:nth-child(1)',\n",
    "    'props': 'font-weight: bold'\n",
    "}\n",
    "column_color = {\n",
    "    'selector':'td:nth-child(4), td:nth-child(5), th:nth-child(4), th:nth-child(5)',\n",
    "    'props':'color:#ce6301'\n",
    "    }\n",
    "\n",
    "# define a function that makes emailto elements\n",
    "def make_clickable2(email):\n",
    "    return f'<a href=\"mailto:{email}\">Email</a>'\n",
    "\n",
    "# generate and save tables for each neighborhood \n",
    "for neighborhood in neighborhood_list:\n",
    "    df = neigh_group[neigh_group['nhood_url']==neighborhood]\n",
    "    print(df)\n",
    "    print(len(df))\n",
    "    if len(df) >0:\n",
    "        df['Type'] = ['-']*len(df)\n",
    "        df['Topic'] = ['-']*len(df)\n",
    "        df['Representing Population'] = ['-']*len(df)\n",
    "        #df['Funding Agency'] = ['-']*len(df)\n",
    "        df['Contact Info'] = df.apply(lambda x: make_clickable2(x['EMAIL']), axis=1)\n",
    "        df.columns = ['Title','Email', 'Neighborhood', 'Type', 'Topic', 'Representing Population', 'Contact Info']\n",
    "        df = df[['Title', 'Type', 'Topic', 'Representing Population', 'Contact Info']]\n",
    "\n",
    "        html = df.style.set_table_styles([row_color1, row_color2, td, header_neigh, header_sf])\\\n",
    "                    .hide_index()\n",
    "\n",
    "\n",
    "        # save the Style object as a html file \n",
    "        with open(r'./output/html_tables/2020_'+neighborhood+'_'+'neigh_groups.html', 'w') as f:\n",
    "            f.write(html.render())\n",
    "            f.close()\n",
    "    else: \n",
    "        with open(r'./output/html_tables/'+str(year)+'_'+neighborhood+'_'+'neigh_groups.html', 'w') as f:\n",
    "            f.write('<div>Not applied</div>')\n",
    "            f.close()\n",
    "        print('pass')"
   ]
  },
  {
   "cell_type": "code",
   "execution_count": null,
   "metadata": {},
   "outputs": [],
   "source": [
    "html"
   ]
  },
  {
   "cell_type": "code",
   "execution_count": null,
   "metadata": {},
   "outputs": [],
   "source": []
  },
  {
   "cell_type": "code",
   "execution_count": null,
   "metadata": {},
   "outputs": [],
   "source": []
  }
 ],
 "metadata": {
  "kernelspec": {
   "display_name": "Python 3 (ipykernel)",
   "language": "python",
   "name": "python3"
  },
  "language_info": {
   "codemirror_mode": {
    "name": "ipython",
    "version": 3
   },
   "file_extension": ".py",
   "mimetype": "text/x-python",
   "name": "python",
   "nbconvert_exporter": "python",
   "pygments_lexer": "ipython3",
   "version": "3.9.13"
  }
 },
 "nbformat": 4,
 "nbformat_minor": 2
}
